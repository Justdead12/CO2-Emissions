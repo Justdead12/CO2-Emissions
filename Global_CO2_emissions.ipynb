{
  "nbformat": 4,
  "nbformat_minor": 0,
  "metadata": {
    "colab": {
      "name": "Global CO2 emissions.ipynb",
      "provenance": [],
      "collapsed_sections": [],
      "toc_visible": true,
      "authorship_tag": "ABX9TyO9olqBgYzTTucuwBjhaPER",
      "include_colab_link": true
    },
    "kernelspec": {
      "name": "python3",
      "display_name": "Python 3"
    },
    "language_info": {
      "name": "python"
    }
  },
  "cells": [
    {
      "cell_type": "markdown",
      "metadata": {
        "id": "view-in-github",
        "colab_type": "text"
      },
      "source": [
        "<a href=\"https://colab.research.google.com/github/Justdead12/CO2-Emissions/blob/main/Global_CO2_emissions.ipynb\" target=\"_parent\"><img src=\"https://colab.research.google.com/assets/colab-badge.svg\" alt=\"Open In Colab\"/></a>"
      ]
    },
    {
      "cell_type": "code",
      "source": [
        "from re import X\n",
        "import matplotlib.pyplot as plt\n",
        "import numpy as np\n",
        "import pandas as pd"
      ],
      "metadata": {
        "id": "i3f4lVmvE041"
      },
      "execution_count": 445,
      "outputs": []
    },
    {
      "cell_type": "code",
      "source": [
        "countries = pd.read_html('https://en.wikipedia.org/wiki/List_of_countries_by_carbon_dioxide_emissions#cite_note-EU_SCIENCE_HUB-20')[1]\n",
        "countries.columns = ['country', '1990', '2005', '2017', '%_2017', '%_2017_vs_1990', 'per_land_area', 'per_capital', 'total_incl_lucf', 'total_excl_lucf']\n",
        "countries.sort_values(by=['2017'], inplace=True, ascending=False)\n",
        "countries"
      ],
      "metadata": {
        "id": "QBOPAODLEvUl"
      },
      "execution_count": null,
      "outputs": []
    },
    {
      "cell_type": "code",
      "execution_count": null,
      "metadata": {
        "id": "p6bvXOob-2As"
      },
      "outputs": [],
      "source": [
        "fig, ax = plt.subplots()\n",
        "x = [1990, 2005, 2017]\n",
        "\n",
        "\n",
        "China = [countries.iloc[1,1], countries.iloc[1,2], countries.iloc[1,3]]\n",
        "US = [countries.iloc[2,1], countries.iloc[2,2], countries.iloc[2,3]]\n",
        "EU = [countries.iloc[3,1], countries.iloc[3,2], countries.iloc[3,3]]\n",
        "India = [countries.iloc[4,1], countries.iloc[4,2], countries.iloc[4,3]]\n",
        "Russia = [countries.iloc[5,1], countries.iloc[5,2], countries.iloc[5,3]]\n",
        "\n",
        "\n",
        "plt.plot(x, China , label='China')\n",
        "plt.plot(x, US, label='United States')\n",
        "plt.plot(x, EU , label='European Union')\n",
        "plt.plot(x, India , label= 'India')\n",
        "plt.plot(x, Russia , label ='Russia')\n",
        "\n",
        "\n",
        "plt.title('Top 5 biggest CO2 Producers')\n",
        "plt.xlabel('Year')\n",
        "plt.ylabel('CO2 Emissions in Mt Co2')\n",
        "plt.xticks(x)\n",
        "plt.ylim(0, 12000)\n",
        "plt.legend()\n",
        "plt.show()"
      ]
    },
    {
      "cell_type": "code",
      "source": [
        "countries['rel_1990'] = countries['1990'] / countries['1990'] * 100\n",
        "countries['rel 2005'] = countries['2005'] / countries['1990'] * 100\n",
        "countries['rel 2017'] = countries['2017'] / countries['1990'] * 100\n",
        "countries.sort_values(by=['rel 2017'], inplace=True, ascending=False)"
      ],
      "metadata": {
        "id": "XkqQDTgchzYO"
      },
      "execution_count": 448,
      "outputs": []
    },
    {
      "cell_type": "code",
      "source": [
        "fig, ax = plt.subplots()\n",
        "x = [1990, 2005, 2017]\n",
        "\n",
        "# Top three biggest increased poluters:\n",
        "first_country = countries.iloc[0, 0]\n",
        "first_top_poluter = [countries.iloc[0,10], countries.iloc[0,11], countries.iloc[0,12]]\n",
        "second_country = countries.iloc[1, 0]\n",
        "second_top_poluter = [countries.iloc[1,10], countries.iloc[1,11], countries.iloc[1,12]]\n",
        "third_country = countries.iloc[2, 0]\n",
        "third_top_poluter = [countries.iloc[2,10], countries.iloc[2,11], countries.iloc[2,12]]\n",
        "\n",
        "# Bottem three biggest increased poluters:\n",
        "last_country = countries.iloc[-1, 0]\n",
        "last_top_poluter = [countries.iloc[-1, 10], countries.iloc[-1,11], countries.iloc[-1,12]]\n",
        "second_last_country = countries.iloc[-2, 0]\n",
        "second_last_top_poluter = [countries.iloc[-2,10], countries.iloc[-2,11], countries.iloc[-2,12]]\n",
        "third_last_country = countries.iloc[-3, 0]\n",
        "third_last_top_poluter = [countries.iloc[-3,10], countries.iloc[-3,11], countries.iloc[-3,12]]\n",
        "\n",
        "plt.plot(x, first_top_poluter, label=first_country)\n",
        "plt.plot(x, second_top_poluter, label=second_country)\n",
        "plt.plot(x, third_top_poluter, label=third_country)\n",
        "plt.plot(x, last_top_poluter, label=last_country)\n",
        "plt.plot(x, second_last_top_poluter, label=second_last_country)\n",
        "plt.plot(x, third_last_top_poluter, label=third_last_country)\n",
        "\n",
        "\n",
        "\n",
        "plt.title('Relative biggest increased poluters')\n",
        "plt.xlabel('Year')\n",
        "plt.ylabel('Relative increase poluters')\n",
        "plt.xticks(x)\n",
        "plt.legend()\n",
        "plt.show()"
      ],
      "metadata": {
        "id": "6uLLNtt6NOi-"
      },
      "execution_count": null,
      "outputs": []
    },
    {
      "cell_type": "code",
      "source": [
        "countries_min_5mt = countries.loc[countries['1990'] > 5].copy()\n",
        "countries_min_5mt.sort_values(by=['rel 2017'], inplace=True, ascending=False)\n",
        "countries_min_5mt"
      ],
      "metadata": {
        "id": "wXRkylw7wd3B"
      },
      "execution_count": null,
      "outputs": []
    },
    {
      "cell_type": "code",
      "source": [
        "fig, ax = plt.subplots()\n",
        "x = [1990, 2005, 2017]\n",
        "\n",
        "# Top three biggest increased poluters:\n",
        "first_country = countries_min_5mt.iloc[0, 0]\n",
        "first_top_poluter = [countries_min_5mt.iloc[0,10], countries_min_5mt.iloc[0,11], countries_min_5mt.iloc[0,12]]\n",
        "second_country = countries_min_5mt.iloc[1, 0]\n",
        "second_top_poluter = [countries_min_5mt.iloc[1,10], countries_min_5mt.iloc[1,11], countries_min_5mt.iloc[1,12]]\n",
        "third_country = countries_min_5mt.iloc[2, 0]\n",
        "third_top_poluter = [countries_min_5mt.iloc[2,10], countries_min_5mt.iloc[2,11], countries_min_5mt.iloc[2,12]]\n",
        "\n",
        "# Bottem three biggest increased poluters:\n",
        "last_country = countries_min_5mt.iloc[-1, 0]\n",
        "last_top_poluter = [countries_min_5mt.iloc[-1, 10], countries_min_5mt.iloc[-1,11], countries_min_5mt.iloc[-1,12]]\n",
        "second_last_country = countries_min_5mt.iloc[-2, 0]\n",
        "second_last_top_poluter = [countries_min_5mt.iloc[-2,10], countries_min_5mt.iloc[-2,11], countries_min_5mt.iloc[-2,12]]\n",
        "third_last_country = countries_min_5mt.iloc[-3, 0]\n",
        "third_last_top_poluter = [countries_min_5mt.iloc[-3,10], countries_min_5mt.iloc[-3,11], countries_min_5mt.iloc[-3,12]]\n",
        "\n",
        "plt.plot(x, first_top_poluter, label=first_country)\n",
        "plt.plot(x, second_top_poluter, label=second_country)\n",
        "plt.plot(x, third_top_poluter, label=third_country)\n",
        "plt.plot(x, last_top_poluter, label=last_country)\n",
        "plt.plot(x, second_last_top_poluter, label=second_last_country)\n",
        "plt.plot(x, third_last_top_poluter, label=third_last_country)\n",
        "\n",
        "\n",
        "\n",
        "plt.title('Relative biggest increased poluters')\n",
        "plt.xlabel('Year')\n",
        "plt.ylabel('Relative increase poluters')\n",
        "plt.xticks(x)\n",
        "plt.legend()\n",
        "plt.show()"
      ],
      "metadata": {
        "id": "VrgjRSD4wwIg"
      },
      "execution_count": null,
      "outputs": []
    }
  ]
}