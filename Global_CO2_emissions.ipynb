{
  "nbformat": 4,
  "nbformat_minor": 0,
  "metadata": {
    "colab": {
      "name": "Global CO2 emissions.ipynb",
      "provenance": [],
      "collapsed_sections": [],
      "toc_visible": true,
      "authorship_tag": "ABX9TyP2ov297hrM0GRx1cFlgdnD",
      "include_colab_link": true
    },
    "kernelspec": {
      "name": "python3",
      "display_name": "Python 3"
    },
    "language_info": {
      "name": "python"
    }
  },
  "cells": [
    {
      "cell_type": "markdown",
      "metadata": {
        "id": "view-in-github",
        "colab_type": "text"
      },
      "source": [
        "<a href=\"https://colab.research.google.com/github/Justdead12/CO2-Emissions/blob/main/Global_CO2_emissions.ipynb\" target=\"_parent\"><img src=\"https://colab.research.google.com/assets/colab-badge.svg\" alt=\"Open In Colab\"/></a>"
      ]
    },
    {
      "cell_type": "code",
      "source": [
        "from re import X\n",
        "import matplotlib.pyplot as plt\n",
        "import numpy as np\n",
        "import pandas as pd"
      ],
      "metadata": {
        "id": "i3f4lVmvE041"
      },
      "execution_count": null,
      "outputs": []
    },
    {
      "cell_type": "code",
      "source": [
        "countries = pd.read_html('https://en.wikipedia.org/wiki/List_of_countries_by_carbon_dioxide_emissions#cite_note-EU_SCIENCE_HUB-20')[1]\n",
        "countries.columns = ['country', '1990', '2005', '2017', '%_2017', '%_2017_vs_1990', 'per_land_area', 'per_capital', 'total_incl_lucf', 'total_excl_lucf']\n",
        "countries_sort_country = (countries.set_index('country'))\n",
        "countries_sort_country = countries_sort_country.drop(['World', 'European Union', 'World – International Aviation', 'World – International Shipping'])\n",
        "only_countries = countries_sort_country.reset_index()\n",
        "only_countries.sort_values(by=['2017'], inplace=True, ascending=False)\n",
        "only_countries"
      ],
      "metadata": {
        "id": "QBOPAODLEvUl"
      },
      "execution_count": null,
      "outputs": []
    },
    {
      "cell_type": "code",
      "execution_count": null,
      "metadata": {
        "id": "p6bvXOob-2As"
      },
      "outputs": [],
      "source": [
        "Top_5 = (only_countries.head(5)).set_axis([0, 1, 2, 3, 4])\n",
        "\n",
        "fig, ax = plt.subplots()\n",
        "x = [1990, 2005, 2017]\n",
        "\n",
        "\n",
        "First = Top_5.loc[0, '1990':'2017']\n",
        "Second = Top_5.loc[1, '1990':'2017']\n",
        "Third = Top_5.loc[2, '1990':'2017']\n",
        "Fourth = Top_5.loc[3, '1990':'2017']\n",
        "Fifth = Top_5.loc[4, '1990':'2017']\n",
        "\n",
        "\n",
        "plt.plot(x, First , label= only_countries.iloc[0,0])\n",
        "plt.plot(x, Second, label= only_countries.iloc[1,0])\n",
        "plt.plot(x, Third , label= only_countries.iloc[2,0])\n",
        "plt.plot(x, Fourth , label= only_countries.iloc[3,0])\n",
        "plt.plot(x, Fifth , label = only_countries.iloc[4,0])\n",
        "\n",
        "\n",
        "plt.title('Top 5 biggest CO2 Producers')\n",
        "plt.xlabel('Year')\n",
        "plt.ylabel('CO2 Emissions in Mt Co2')\n",
        "plt.xticks(x)\n",
        "plt.ylim(0, 12000)\n",
        "plt.legend()\n",
        "plt.show()"
      ]
    },
    {
      "cell_type": "code",
      "source": [
        "only_countries['rel 1990'] = only_countries['1990'] / only_countries['1990'] * 100\n",
        "only_countries['rel 2005'] = only_countries['2005'] / only_countries['1990'] * 100\n",
        "only_countries['rel 2017'] = only_countries['2017'] / only_countries['1990'] * 100\n",
        "only_countries.sort_values(by=['rel 2017'], inplace=True, ascending=False)\n",
        "only_countries"
      ],
      "metadata": {
        "id": "XkqQDTgchzYO"
      },
      "execution_count": null,
      "outputs": []
    },
    {
      "cell_type": "code",
      "source": [
        "Top_3 = (only_countries.head(3)).set_axis([0, 1, 2])\n",
        "Bottem_3 = (only_countries.tail(3)).set_axis([0, 1, 2])\n",
        "\n",
        "fig, ax = plt.subplots()\n",
        "x = [1990, 2005, 2017]\n",
        "\n",
        "First = Top_3.loc[0, 'rel 1990':'rel 2017']\n",
        "Second = Top_3.loc[1, 'rel 1990':'rel 2017']\n",
        "Third = Top_3.loc[2, 'rel 1990':'rel 2017']\n",
        "\n",
        "Last = Bottem_3.loc[2, 'rel 1990':'rel 2017']\n",
        "Second_Last = Bottem_3.loc[1, 'rel 1990':'rel 2017']\n",
        "Third_Last = Bottem_3.loc[0, 'rel 1990':'rel 2017']\n",
        "\n",
        "plt.plot(x, First , label= only_countries.iloc[0,0])\n",
        "plt.plot(x, Second, label= only_countries.iloc[1,0])\n",
        "plt.plot(x, Third , label= only_countries.iloc[2,0])\n",
        "\n",
        "plt.plot(x, Last , label= only_countries.iloc[0,0])\n",
        "plt.plot(x, Second_Last, label= only_countries.iloc[1,0])\n",
        "plt.plot(x, Third_Last , label= only_countries.iloc[2,0])\n",
        "\n",
        "\n",
        "\n",
        "plt.title('Relative biggest increased poluters')\n",
        "plt.xlabel('Year')\n",
        "plt.ylabel('Relative increase poluters')\n",
        "plt.xticks(x)\n",
        "plt.legend()\n",
        "plt.show()"
      ],
      "metadata": {
        "id": "6uLLNtt6NOi-"
      },
      "execution_count": null,
      "outputs": []
    },
    {
      "cell_type": "code",
      "source": [
        "countries_min_5mt = only_countries.loc[only_countries['1990'] > 5].copy()\n",
        "countries_min_5mt.sort_values(by=['rel 2017'], inplace=True, ascending=False)\n",
        "countries_min_5mt"
      ],
      "metadata": {
        "id": "wXRkylw7wd3B"
      },
      "execution_count": null,
      "outputs": []
    },
    {
      "cell_type": "code",
      "source": [
        "Top_3_min_5mt = (countries_min_5mt.head(3)).set_axis([0, 1, 2])\n",
        "Bottem_3_min_5mt = (countries_min_5mt.tail(3)).set_axis([0, 1, 2])\n",
        "\n",
        "fig, ax = plt.subplots()\n",
        "x = [1990, 2005, 2017]\n",
        "\n",
        "First = Top_3_min_5mt.loc[0, 'rel 1990':'rel 2017']\n",
        "Second = Top_3_min_5mt.loc[1, 'rel 1990':'rel 2017']\n",
        "Third = Top_3_min_5mt.loc[2, 'rel 1990':'rel 2017']\n",
        "\n",
        "Last = Bottem_3_min_5mt.loc[2, 'rel 1990':'rel 2017']\n",
        "Second_Last = Bottem_3_min_5mt.loc[1, 'rel 1990':'rel 2017']\n",
        "Third_Last = Bottem_3_min_5mt.loc[0, 'rel 1990':'rel 2017']\n",
        "\n",
        "plt.plot(x, First , label= only_countries.iloc[0,0])\n",
        "plt.plot(x, Second, label= only_countries.iloc[1,0])\n",
        "plt.plot(x, Third , label= only_countries.iloc[2,0])\n",
        "\n",
        "plt.plot(x, Last , label= only_countries.iloc[0,0])\n",
        "plt.plot(x, Second_Last, label= only_countries.iloc[1,0])\n",
        "plt.plot(x, Third_Last , label= only_countries.iloc[2,0])\n",
        "\n",
        "\n",
        "\n",
        "plt.title('Relative biggest increased poluters')\n",
        "plt.xlabel('Year')\n",
        "plt.ylabel('Relative increase poluters')\n",
        "plt.xticks(x)\n",
        "plt.legend()\n",
        "plt.show()"
      ],
      "metadata": {
        "id": "VrgjRSD4wwIg"
      },
      "execution_count": null,
      "outputs": []
    }
  ]
}