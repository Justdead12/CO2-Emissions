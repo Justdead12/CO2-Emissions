{
  "nbformat": 4,
  "nbformat_minor": 0,
  "metadata": {
    "colab": {
      "name": "pandas countries.ipynb",
      "provenance": [],
      "collapsed_sections": [],
      "toc_visible": true,
      "authorship_tag": "ABX9TyPOokiFBQVrfNWGnN4fTsc5",
      "include_colab_link": true
    },
    "kernelspec": {
      "name": "python3",
      "display_name": "Python 3"
    },
    "language_info": {
      "name": "python"
    }
  },
  "cells": [
    {
      "cell_type": "markdown",
      "metadata": {
        "id": "view-in-github",
        "colab_type": "text"
      },
      "source": [
        "<a href=\"https://colab.research.google.com/github/Justdead12/CO2-Emissions/blob/main/pandas_countries.ipynb\" target=\"_parent\"><img src=\"https://colab.research.google.com/assets/colab-badge.svg\" alt=\"Open In Colab\"/></a>"
      ]
    },
    {
      "cell_type": "code",
      "execution_count": null,
      "metadata": {
        "id": "vBmhxZxGsvNL"
      },
      "outputs": [],
      "source": [
        "import pandas as pd\n",
        "tables = pd.read_html(\"https://en.wikipedia.org/wiki/List_of_sovereign_states_and_dependent_territories_by_birth_rate\")\n",
        "countries = tables[0]\n",
        "countries"
      ]
    },
    {
      "cell_type": "code",
      "source": [
        "countries.columns = ['country', 'wb', 'oecd', 'cia13', 'cia14', 'cia20', 'prb']\n",
        "countries.iloc[0:195]"
      ],
      "metadata": {
        "id": "NPj7UnqtuObP"
      },
      "execution_count": null,
      "outputs": []
    },
    {
      "cell_type": "code",
      "source": [
        "countries.loc[countries.prb > 40,['country', 'prb']]"
      ],
      "metadata": {
        "id": "CcZbfZeox7wI"
      },
      "execution_count": null,
      "outputs": []
    },
    {
      "cell_type": "code",
      "source": [
        "countries_with_stan = countries.loc[countries.country.str.contains('stan')]\n",
        "countries_with_stan.loc[countries_with_stan.cia20 < 25,['country', 'cia20']]"
      ],
      "metadata": {
        "id": "Wy4QwVRF5Kgr"
      },
      "execution_count": null,
      "outputs": []
    },
    {
      "cell_type": "code",
      "source": [
        "change = countries.loc[(countries.cia13 - countries.cia20) > 7,['country', 'cia13', 'cia20']]\n",
        "change"
      ],
      "metadata": {
        "id": "r5H8tuIY5hIM"
      },
      "execution_count": null,
      "outputs": []
    },
    {
      "cell_type": "code",
      "source": [
        ""
      ],
      "metadata": {
        "id": "L1ETXI_79WD4"
      },
      "execution_count": null,
      "outputs": []
    }
  ]
}